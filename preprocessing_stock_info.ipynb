{
 "cells": [
  {
   "cell_type": "code",
   "execution_count": 86,
   "id": "892062d0",
   "metadata": {},
   "outputs": [],
   "source": [
    "import pandas as pd \n",
    "import requests \n",
    "import os\n",
    "import requests\n",
    "import numpy as np\n",
    "import pickle\n",
    "from sklearn.preprocessing import OneHotEncoder\n",
    "#Helper function to make directory\n",
    "def make_directory(path):\n",
    "    if not os.path.exists(path):\n",
    "        os.makedirs(path)"
   ]
  },
  {
   "cell_type": "code",
   "execution_count": 87,
   "id": "3f4ce432",
   "metadata": {},
   "outputs": [
    {
     "name": "stdout",
     "output_type": "stream",
     "text": [
      "Index(['index', 'Symbol', 'Name', 'Lastsale', 'Netchange', 'Pctchange',\n",
      "       'Marketcap', 'Country', 'Ipoyear', 'Volume', 'Sector', 'Industry',\n",
      "       'Url'],\n",
      "      dtype='object')\n"
     ]
    }
   ],
   "source": [
    "# Getting available symbols & informations in NASDAQ\n",
    "def fetch_stock_symbols():\n",
    "    url = 'https://api.nasdaq.com/api/screener/stocks?tableonly=true&limit=25&offset=0&exchange=NASDAQ&download=true'\n",
    "    headers = {'User-Agent': 'Mozilla/5.0 (Windows NT 6.1; WOW64) AppleWebKit/537.36 (KHTML, like Gecko) Chrome/56.0.2924.76 Safari/537.36', \"Upgrade-Insecure-Requests\": \"1\",\"DNT\": \"1\",\"Accept\": \"text/html,application/xhtml+xml,application/xml;q=0.9,*/*;q=0.8\",\"Accept-Language\": \"en-US,en;q=0.5\",\"Accept-Encoding\": \"gzip, deflate\"}\n",
    "    dataString = requests.get(url,headers=headers).content\n",
    "    json_data = json.loads(dataString)['data']\n",
    "    tickersRawData = pd.DataFrame(json_data['rows'],columns=json_data['headers'])\n",
    "    tickersRawData.columns = tickersRawData.columns.str.capitalize()\n",
    "    # Hard to assume missing value -> Drop \n",
    "    tickersRawData.replace('', np.nan, inplace=True)\n",
    "    tickersRawData.dropna(inplace=True,how='any')\n",
    "    tickersRawData.reset_index(inplace=True)\n",
    "    path ='data'\n",
    "    filepath = f'data/NASDAQ.csv'\n",
    "    make_directory(path)\n",
    "    tickersRawData.to_csv(filepath, index=False)\n",
    "    print(tickersRawData.columns)\n",
    "    return tickersRawData\n",
    "    \n",
    "df = fetch_stock_symbols()\n"
   ]
  },
  {
   "cell_type": "code",
   "execution_count": 88,
   "id": "a2e89e40",
   "metadata": {},
   "outputs": [],
   "source": [
    "# Features to preprocess: Marketcap, Country, Ipoyear, Sector, Industry , Volume\n",
    "# Onehot Encoding: Country, Industry, Sector\n",
    "# Ordinal Encoding: Ipoyear, Marketcap, Volume\n",
    "oe_target = ['Country','Industry','Sector']\n",
    "oe = OneHotEncoder(sparse_output=False)\n",
    "oe.fit(df[oe_target])\n",
    "\n",
    "#Save onehotencoder for later usage\n",
    "with open('data/onehot_encoder.pkl', 'wb') as to_write:\n",
    "    pickle.dump(oe, to_write)\n",
    "\n",
    "transformed_data = oe.transform(df[oe_target])\n",
    "transformed_df = pd.DataFrame(transformed_data, columns=oe.get_feature_names_out(oe_target))\n",
    "\n",
    "df = df.drop(columns=oe_target)\n",
    "df = pd.concat([df, transformed_df], axis=1)"
   ]
  },
  {
   "cell_type": "code",
   "execution_count": 89,
   "id": "9f257e1b",
   "metadata": {},
   "outputs": [
    {
     "data": {
      "text/plain": [
       "Index(['index', 'Symbol', 'Name', 'Lastsale', 'Netchange', 'Pctchange',\n",
       "       'Marketcap', 'Ipoyear', 'Volume', 'Url',\n",
       "       ...\n",
       "       'Sector_Consumer Staples', 'Sector_Energy', 'Sector_Finance',\n",
       "       'Sector_Health Care', 'Sector_Industrials', 'Sector_Miscellaneous',\n",
       "       'Sector_Real Estate', 'Sector_Technology', 'Sector_Telecommunications',\n",
       "       'Sector_Utilities'],\n",
       "      dtype='object', length=192)"
      ]
     },
     "execution_count": 89,
     "metadata": {},
     "output_type": "execute_result"
    }
   ],
   "source": [
    "df.columns"
   ]
  },
  {
   "cell_type": "code",
   "execution_count": 90,
   "id": "986a8127",
   "metadata": {},
   "outputs": [
    {
     "name": "stdout",
     "output_type": "stream",
     "text": [
      "Ipoyear\n",
      "Marketcap\n",
      "Volume\n"
     ]
    }
   ],
   "source": [
    "# Ordinal: arrange by percentile cut off (4 Groups)\n",
    "# Ipoyear, Marketcap \n",
    "ordinal_target = ['Ipoyear', 'Marketcap', 'Volume']\n",
    "\n",
    "# How far till now of Ipoyear\n",
    "df['Ipoyear'] = pd.to_numeric(df['Ipoyear'])\n",
    "Ipoyear = - (df['Ipoyear'] - 2024)\n",
    "\n",
    "df['Marketcap'] = pd.to_numeric(df['Marketcap'])\n",
    "df['Volume'] = pd.to_numeric(df['Volume'])\n",
    "for target in ordinal_target:\n",
    "    print(target)\n",
    "    df[f'{target}_label'] = pd.qcut(df[target], 4, labels=False)"
   ]
  },
  {
   "cell_type": "code",
   "execution_count": 91,
   "id": "b7738ab2",
   "metadata": {},
   "outputs": [
    {
     "data": {
      "text/html": [
       "<div>\n",
       "<style scoped>\n",
       "    .dataframe tbody tr th:only-of-type {\n",
       "        vertical-align: middle;\n",
       "    }\n",
       "\n",
       "    .dataframe tbody tr th {\n",
       "        vertical-align: top;\n",
       "    }\n",
       "\n",
       "    .dataframe thead th {\n",
       "        text-align: right;\n",
       "    }\n",
       "</style>\n",
       "<table border=\"1\" class=\"dataframe\">\n",
       "  <thead>\n",
       "    <tr style=\"text-align: right;\">\n",
       "      <th></th>\n",
       "      <th>Ipoyear_label</th>\n",
       "      <th>Marketcap_label</th>\n",
       "      <th>Volume_label</th>\n",
       "    </tr>\n",
       "  </thead>\n",
       "  <tbody>\n",
       "    <tr>\n",
       "      <th>0</th>\n",
       "      <td>0</td>\n",
       "      <td>1</td>\n",
       "      <td>1</td>\n",
       "    </tr>\n",
       "    <tr>\n",
       "      <th>1</th>\n",
       "      <td>2</td>\n",
       "      <td>0</td>\n",
       "      <td>2</td>\n",
       "    </tr>\n",
       "    <tr>\n",
       "      <th>2</th>\n",
       "      <td>2</td>\n",
       "      <td>0</td>\n",
       "      <td>2</td>\n",
       "    </tr>\n",
       "    <tr>\n",
       "      <th>3</th>\n",
       "      <td>2</td>\n",
       "      <td>1</td>\n",
       "      <td>2</td>\n",
       "    </tr>\n",
       "    <tr>\n",
       "      <th>4</th>\n",
       "      <td>2</td>\n",
       "      <td>0</td>\n",
       "      <td>0</td>\n",
       "    </tr>\n",
       "    <tr>\n",
       "      <th>...</th>\n",
       "      <td>...</td>\n",
       "      <td>...</td>\n",
       "      <td>...</td>\n",
       "    </tr>\n",
       "    <tr>\n",
       "      <th>2276</th>\n",
       "      <td>1</td>\n",
       "      <td>3</td>\n",
       "      <td>3</td>\n",
       "    </tr>\n",
       "    <tr>\n",
       "      <th>2277</th>\n",
       "      <td>1</td>\n",
       "      <td>2</td>\n",
       "      <td>2</td>\n",
       "    </tr>\n",
       "    <tr>\n",
       "      <th>2278</th>\n",
       "      <td>1</td>\n",
       "      <td>3</td>\n",
       "      <td>3</td>\n",
       "    </tr>\n",
       "    <tr>\n",
       "      <th>2279</th>\n",
       "      <td>0</td>\n",
       "      <td>2</td>\n",
       "      <td>3</td>\n",
       "    </tr>\n",
       "    <tr>\n",
       "      <th>2280</th>\n",
       "      <td>3</td>\n",
       "      <td>0</td>\n",
       "      <td>2</td>\n",
       "    </tr>\n",
       "  </tbody>\n",
       "</table>\n",
       "<p>2281 rows × 3 columns</p>\n",
       "</div>"
      ],
      "text/plain": [
       "      Ipoyear_label  Marketcap_label  Volume_label\n",
       "0                 0                1             1\n",
       "1                 2                0             2\n",
       "2                 2                0             2\n",
       "3                 2                1             2\n",
       "4                 2                0             0\n",
       "...             ...              ...           ...\n",
       "2276              1                3             3\n",
       "2277              1                2             2\n",
       "2278              1                3             3\n",
       "2279              0                2             3\n",
       "2280              3                0             2\n",
       "\n",
       "[2281 rows x 3 columns]"
      ]
     },
     "metadata": {},
     "output_type": "display_data"
    }
   ],
   "source": [
    "display(df[['Ipoyear_label','Marketcap_label','Volume_label']])"
   ]
  },
  {
   "cell_type": "code",
   "execution_count": 92,
   "id": "60de82a2",
   "metadata": {},
   "outputs": [],
   "source": [
    "df.to_csv('data/NASDAQ_preprocess.csv',index=False)"
   ]
  },
  {
   "cell_type": "code",
   "execution_count": null,
   "id": "333d7580",
   "metadata": {},
   "outputs": [],
   "source": []
  }
 ],
 "metadata": {
  "kernelspec": {
   "display_name": "Python 3 (ipykernel)",
   "language": "python",
   "name": "python3"
  },
  "language_info": {
   "codemirror_mode": {
    "name": "ipython",
    "version": 3
   },
   "file_extension": ".py",
   "mimetype": "text/x-python",
   "name": "python",
   "nbconvert_exporter": "python",
   "pygments_lexer": "ipython3",
   "version": "3.10.5"
  },
  "varInspector": {
   "cols": {
    "lenName": 16,
    "lenType": 16,
    "lenVar": 40
   },
   "kernels_config": {
    "python": {
     "delete_cmd_postfix": "",
     "delete_cmd_prefix": "del ",
     "library": "var_list.py",
     "varRefreshCmd": "print(var_dic_list())"
    },
    "r": {
     "delete_cmd_postfix": ") ",
     "delete_cmd_prefix": "rm(",
     "library": "var_list.r",
     "varRefreshCmd": "cat(var_dic_list()) "
    }
   },
   "types_to_exclude": [
    "module",
    "function",
    "builtin_function_or_method",
    "instance",
    "_Feature"
   ],
   "window_display": false
  }
 },
 "nbformat": 4,
 "nbformat_minor": 5
}
